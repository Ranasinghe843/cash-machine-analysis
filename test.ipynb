{
 "cells": [
  {
   "cell_type": "code",
   "execution_count": 1,
   "metadata": {},
   "outputs": [
    {
     "name": "stdout",
     "output_type": "stream",
     "text": [
      "Spin result: [50, 10, 1]\n",
      "Payout: 51010 credits\n",
      "Payout after Red Respin: 51010 credits\n"
     ]
    },
    {
     "data": {
      "text/plain": [
       "51010"
      ]
     },
     "execution_count": 1,
     "metadata": {},
     "output_type": "execute_result"
    }
   ],
   "source": [
    "import random\n",
    "\n",
    "class CashMachineSlot:\n",
    "    def __init__(self, bet_level=1):\n",
    "        self.reels = [0, 1, 5, 10, 50, 100, None]  # 'None' represents a blank reel\n",
    "        self.bet_level = bet_level\n",
    "        self.spin_result = [None, None, None]\n",
    "\n",
    "    def spin_reels(self):\n",
    "        # Simulate spinning the 3 reels\n",
    "        self.spin_result = [random.choice(self.reels) for _ in range(3)]\n",
    "        print(f\"Spin result: {self.spin_result}\")\n",
    "        return self.spin_result\n",
    "\n",
    "    def calculate_payout(self):\n",
    "        # Combine the numbers from the reels (None is treated as blank, which doesn't add to the payout)\n",
    "        payout = 0\n",
    "        for r in self.spin_result:\n",
    "            if r is not None:\n",
    "                payout = payout * 10 + r  # Build the payout as a concatenated number\n",
    "        return payout * self.bet_level\n",
    "\n",
    "    def zero_respin(self):\n",
    "        # If there's a zero in the result, respin other reels\n",
    "        if 0 in self.spin_result:\n",
    "            for i in range(3):\n",
    "                if self.spin_result[i] == 0:\n",
    "                    self.spin_result[i] = random.choice(self.reels)\n",
    "            print(f\"After Zero Respin: {self.spin_result}\")\n",
    "        return self.spin_result\n",
    "\n",
    "    def red_respin(self):\n",
    "        # Random chance for red respin (after a win), reroll blanks to potentially increase payout\n",
    "        if random.random() < 0.3:  # 30% chance for red respin\n",
    "            for i in range(3):\n",
    "                if self.spin_result[i] is None:\n",
    "                    self.spin_result[i] = random.choice(self.reels)\n",
    "            print(f\"After Red Respin: {self.spin_result}\")\n",
    "        return self.spin_result\n",
    "\n",
    "    def play(self):\n",
    "        self.spin_reels()\n",
    "        payout = self.calculate_payout()\n",
    "        print(f\"Payout: {payout} credits\")\n",
    "\n",
    "        if payout == 0:\n",
    "            # Trigger Zero Respin if needed\n",
    "            self.zero_respin()\n",
    "            payout = self.calculate_payout()\n",
    "            print(f\"Payout after Zero Respin: {payout} credits\")\n",
    "        \n",
    "        elif payout > 0:\n",
    "            # Chance for Red Respin\n",
    "            self.red_respin()\n",
    "            payout = self.calculate_payout()\n",
    "            print(f\"Payout after Red Respin: {payout} credits\")\n",
    "\n",
    "        return payout\n",
    "\n",
    "# Example of playing the Cash Machine slot\n",
    "slot_machine = CashMachineSlot(bet_level=10)  # Example with a bet level of 10\n",
    "slot_machine.play()"
   ]
  }
 ],
 "metadata": {
  "kernelspec": {
   "display_name": "base",
   "language": "python",
   "name": "python3"
  },
  "language_info": {
   "codemirror_mode": {
    "name": "ipython",
    "version": 3
   },
   "file_extension": ".py",
   "mimetype": "text/x-python",
   "name": "python",
   "nbconvert_exporter": "python",
   "pygments_lexer": "ipython3",
   "version": "3.9.17"
  }
 },
 "nbformat": 4,
 "nbformat_minor": 2
}
